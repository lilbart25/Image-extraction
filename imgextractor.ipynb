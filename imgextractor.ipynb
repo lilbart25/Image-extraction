{
  "nbformat": 4,
  "nbformat_minor": 0,
  "metadata": {
    "colab": {
      "provenance": [],
      "authorship_tag": "ABX9TyPwcHHcUNDjHrrVH77spf2Q",
      "include_colab_link": true
    },
    "kernelspec": {
      "name": "python3",
      "display_name": "Python 3"
    },
    "language_info": {
      "name": "python"
    }
  },
  "cells": [
    {
      "cell_type": "markdown",
      "metadata": {
        "id": "view-in-github",
        "colab_type": "text"
      },
      "source": [
        "<a href=\"https://colab.research.google.com/github/lilbart25/Image-extraction/blob/main/imgextractor.ipynb\" target=\"_parent\"><img src=\"https://colab.research.google.com/assets/colab-badge.svg\" alt=\"Open In Colab\"/></a>"
      ]
    },
    {
      "cell_type": "code",
      "execution_count": 4,
      "metadata": {
        "id": "sAAYuqkN3n5H"
      },
      "outputs": [],
      "source": [
        "import fitz\n",
        "import os\n",
        "from PIL import Image\n",
        "import io\n",
        "\n",
        "# Opening the file\n",
        "file_path = \"/content/Cuisine.pdf\"\n",
        "pdf_file = fitz.open(file_path)\n",
        "\n",
        "# Reading the location where to save the file\n",
        "location = \"C:\\\\Users\\\\Shashwat\\\\Downloads\"\n",
        "\n",
        "# Iterating through each page in the pdf\n",
        "for current_page_index in range(pdf_file.page_count):\n",
        "    page = pdf_file.load_page(current_page_index)\n",
        "\n",
        "    # Getting the image list on the current page\n",
        "    image_list = page.get_images()\n",
        "\n",
        "    # Iterating through each image on the current page\n",
        "    for img_index, img_info in enumerate(image_list):\n",
        "        xref = img_info[0]\n",
        "        base_image = pdf_file.extract_image(xref)\n",
        "        image_data = base_image[\"image\"]\n",
        "\n",
        "        try:\n",
        "            # Opening the image using PIL\n",
        "            image_stream = io.BytesIO(image_data)\n",
        "            pil_image = Image.open(image_stream)\n",
        "\n",
        "            # Saving the image\n",
        "            image_path = os.path.join(location, f\"image{current_page_index}-{img_index}.png\")\n",
        "            pil_image.save(image_path, \"PNG\")\n",
        "        except (OSError, Image.DecompressionBombError):\n",
        "            # Skip the image if there are errors\n",
        "            continue\n"
      ]
    },
    {
      "cell_type": "code",
      "source": [
        "!pip3 install PyMuPDF"
      ],
      "metadata": {
        "colab": {
          "base_uri": "https://localhost:8080/"
        },
        "id": "wUHQfK6K3prh",
        "outputId": "a5e89606-063b-44cd-99d7-144de41a7863"
      },
      "execution_count": 2,
      "outputs": [
        {
          "output_type": "stream",
          "name": "stdout",
          "text": [
            "Looking in indexes: https://pypi.org/simple, https://us-python.pkg.dev/colab-wheels/public/simple/\n",
            "Collecting PyMuPDF\n",
            "  Downloading PyMuPDF-1.22.3-cp310-cp310-manylinux_2_17_x86_64.manylinux2014_x86_64.whl (14.1 MB)\n",
            "\u001b[2K     \u001b[90m━━━━━━━━━━━━━━━━━━━━━━━━━━━━━━━━━━━━━━━━\u001b[0m \u001b[32m14.1/14.1 MB\u001b[0m \u001b[31m53.9 MB/s\u001b[0m eta \u001b[36m0:00:00\u001b[0m\n",
            "\u001b[?25hInstalling collected packages: PyMuPDF\n",
            "Successfully installed PyMuPDF-1.22.3\n"
          ]
        }
      ]
    }
  ]
}